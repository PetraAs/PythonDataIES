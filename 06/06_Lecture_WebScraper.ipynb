{
 "cells": [
  {
   "cell_type": "code",
   "execution_count": 41,
   "metadata": {},
   "outputs": [],
   "source": [
    "import requests\n",
    "from bs4 import BeautifulSoup\n",
    "from tqdm import tqdm\n",
    "from IES_Downloader import IES_Downloader\n",
    "from IPython.core.debugger import Tracer"
   ]
  },
  {
   "cell_type": "markdown",
   "metadata": {},
   "source": [
    "# Lecture 6 - IES Web scraper\n",
    "\n",
    "by Vítek Macháček\n",
    "\n",
    "March 27th and 28th, 2019\n",
    "\n",
    "* Putting it all together\n",
    "* OOP + Pandas + Requests + BeautifulSoup"
   ]
  },
  {
   "cell_type": "markdown",
   "metadata": {},
   "source": [
    "## Object-oriented Programming\n",
    "* Brief reminder of how objects work\n",
    "\n",
    "### Docstring + Objects + Inheriting + Constructors"
   ]
  },
  {
   "cell_type": "code",
   "execution_count": 44,
   "metadata": {},
   "outputs": [
    {
     "name": "stdout",
     "output_type": "stream",
     "text": [
      "<__main__.Child object at 0x000001D42DC954E0>\n"
     ]
    }
   ],
   "source": [
    "class Parent:\n",
    "    '''\n",
    "    A very brief and helpful description of the Parent class\n",
    "    '''\n",
    "    def __init__(self,arg):\n",
    "        '''\n",
    "        Exact and brief description of parent's constructor\n",
    "        '''\n",
    "        self.attribute = 'x'\n",
    "        self.id = arg\n",
    "        \n",
    "    def parentMethod(self):\n",
    "        '''\n",
    "        Good description of parentMethod\n",
    "        '''\n",
    "        pass\n",
    "    \n",
    "class Child(Parent):\n",
    "    '''\n",
    "    This is what Child is good for\n",
    "    '''\n",
    "    def __init__(self,arg,desc):\n",
    "        '''\n",
    "        Exact and brief description of Child's contructor\n",
    "        '''\n",
    "        super().__init__(arg)\n",
    "        self.desc = desc\n",
    "    \n",
    "    def childMethod(self,arg):\n",
    "        '''\n",
    "        Good description of childMethod\n",
    "        '''\n",
    "        return len(arg)\n",
    "\n",
    "    \n",
    "par = Parent('A parent')\n",
    "ch = Child(999,'A child')\n"
   ]
  },
  {
   "cell_type": "code",
   "execution_count": 5,
   "metadata": {},
   "outputs": [],
   "source": [
    "# super: superior - inherit from parent?\n",
    "# '' ... docstrings - describe the class - what are the inputs/outputs...\n",
    "# objects: to store variables together\n",
    "# init: why objects have init function? it initializes the object\n",
    "?Parent\n",
    "?par"
   ]
  },
  {
   "cell_type": "markdown",
   "metadata": {},
   "source": [
    "## Task:\n",
    "* A parser of IES websites with following features:\n",
    "    * All info about people from [Internal faculty](http://ies.fsv.cuni.cz/en/node/48), [External lecturers](http://ies.fsv.cuni.cz/en/node/49), [Ph.D. candidates](http://ies.fsv.cuni.cz/en/node/51) and [Administration](http://ies.fsv.cuni.cz/en/node/50)\n",
    "    * All info about [all](http://ies.fsv.cuni.cz/en/node/109) theses between 1994 and 2019\n",
    "    * Also all courses! But no list of courses available ..."
   ]
  },
  {
   "cell_type": "code",
   "execution_count": null,
   "metadata": {},
   "outputs": [],
   "source": []
  },
  {
   "cell_type": "markdown",
   "metadata": {},
   "source": [
    "### Robots.txt\n",
    "\n",
    "* Is it OK to scrape?\n",
    "* Guidance for search engines etc.\n"
   ]
  },
  {
   "cell_type": "code",
   "execution_count": 6,
   "metadata": {},
   "outputs": [
    {
     "data": {
      "text/plain": [
       "<Response [404]>"
      ]
     },
     "execution_count": 6,
     "metadata": {},
     "output_type": "execute_result"
    }
   ],
   "source": [
    "requests.get('http://ies.fsv.cuni.cz/robots.txt') # doesnt exist -> can scrape\n",
    "# IES is a static webpage"
   ]
  },
  {
   "cell_type": "code",
   "execution_count": 7,
   "metadata": {},
   "outputs": [
    {
     "name": "stdout",
     "output_type": "stream",
     "text": [
      "User-agent: *\n",
      "Disallow: /advertpdf/\n",
      "Disallow: /favourites-info\n",
      "Disallow: *_buri=\n",
      "Disallow: /adresar/*page=\n",
      "Disallow: /adresar/*perPage=\n",
      "Disallow: /adresar/*search=\n",
      "Disallow: /adresar/*letter=\n",
      "Disallow: /adresar/*id=\n",
      "Disallow: /firma/*page=\n",
      "Disallow: /firma/*perPage=\n",
      "Disallow: /firma/*search=\n",
      "Disallow: /firma/*letter=\n",
      "Disallow: /firma/*id=\n",
      "Disallow: /hledani/*,\n",
      "Allow: /hledani/*region=*,\n",
      "Disallow: /rk-detail\n",
      "Disallow: *bez-aukce=\n",
      "Disallow: *without-auction=\n",
      "\n",
      "\n",
      "User-agent: SeznamBot\n",
      "Disallow: /advertpdf/\n",
      "Disallow: /en/\n",
      "Disallow: /ru/\n",
      "Disallow: /favourites-info\n",
      "Disallow: *_buri=\n",
      "Disallow: /adresar/*page=\n",
      "Disallow: /adresar/*perPage=\n",
      "Disallow: /adresar/*search=\n",
      "Disallow: /adresar/*letter=\n",
      "Disallow: /adresar/*id=\n",
      "Disallow: /firma/*page=\n",
      "Disallow: /firma/*perPage=\n",
      "Disallow: /firma/*search=\n",
      "Disallow: /firma/*letter=\n",
      "Disallow: /firma/*id=\n",
      "Disallow: /hledani/*,\n",
      "Allow: /hledani/*region=*,\n",
      "Disallow: /rk-detail\n",
      "Disallow: *bez-aukce=\n",
      "Disallow: *without-auction=\n",
      "\n",
      "Sitemap: https://www.sreality.cz/sitemap.xml\n",
      "\n"
     ]
    }
   ],
   "source": [
    "print(requests.get('http://sreality.cz/robots.txt').text)"
   ]
  },
  {
   "cell_type": "markdown",
   "metadata": {},
   "source": [
    "## Pages\n",
    "\n",
    "### Find all persons?\n",
    "[Current faculty](http://ies.fsv.cuni.cz/en/node/48)"
   ]
  },
  {
   "cell_type": "code",
   "execution_count": 47,
   "metadata": {},
   "outputs": [],
   "source": [
    "def getSoup(link):\n",
    "    r = requests.get(link)\n",
    "    r.encoding = 'UTF-8'\n",
    "    return BeautifulSoup(r.text,'lxml') #creates BS object from the link - use this object to find ALL tds with class = peopleTableCellaName\n",
    "\n",
    "# soup = getSoup('http://ies.fsv.cuni.cz/en/node/48')"
   ]
  },
  {
   "cell_type": "code",
   "execution_count": 51,
   "metadata": {},
   "outputs": [
    {
     "data": {
      "text/plain": [
       "['http://ies.fsv.cuni.cz/en/staff/barunik',\n",
       " 'http://ies.fsv.cuni.cz/en/staff/bauerm',\n",
       " 'http://ies.fsv.cuni.cz/en/staff/baxajaromir',\n",
       " 'http://ies.fsv.cuni.cz/en/staff/antosova',\n",
       " 'http://ies.fsv.cuni.cz/en/staff/cahlik',\n",
       " 'http://ies.fsv.cuni.cz/en/staff/fcech',\n",
       " 'http://ies.fsv.cuni.cz/en/staff/cervinka',\n",
       " 'http://ies.fsv.cuni.cz/en/staff/chytilova',\n",
       " 'http://ies.fsv.cuni.cz/en/staff/dedek',\n",
       " 'http://ies.fsv.cuni.cz/en/staff/dolezalova',\n",
       " 'http://ies.fsv.cuni.cz/en/staff/gersl',\n",
       " 'http://ies.fsv.cuni.cz/en/staff/gregor',\n",
       " 'http://ies.fsv.cuni.cz/en/staff/havranek',\n",
       " 'http://ies.fsv.cuni.cz/en/staff/irsova',\n",
       " 'http://ies.fsv.cuni.cz/en/staff/hlavacekm',\n",
       " 'http://ies.fsv.cuni.cz/en/staff/hollmannov',\n",
       " 'http://ies.fsv.cuni.cz/en/staff/holub',\n",
       " 'http://ies.fsv.cuni.cz/en/staff/horvath',\n",
       " 'http://ies.fsv.cuni.cz/en/staff/jakubik',\n",
       " 'http://ies.fsv.cuni.cz/en/staff/janda',\n",
       " 'http://ies.fsv.cuni.cz/en/staff/jansky',\n",
       " 'http://ies.fsv.cuni.cz/en/staff/kemenyova',\n",
       " 'http://ies.fsv.cuni.cz/en/staff/kocenda',\n",
       " 'http://ies.fsv.cuni.cz/en/staff/komarek',\n",
       " 'http://ies.fsv.cuni.cz/en/staff/kopecna',\n",
       " 'http://ies.fsv.cuni.cz/en/staff/kristoufek',\n",
       " 'http://ies.fsv.cuni.cz/en/staff/kukacka',\n",
       " 'http://ies.fsv.cuni.cz/en/staff/mejstrik',\n",
       " 'http://ies.fsv.cuni.cz/en/staff/nevrla',\n",
       " 'http://ies.fsv.cuni.cz/en/staff/novakji',\n",
       " 'http://ies.fsv.cuni.cz/en/staff/malirova',\n",
       " 'http://ies.fsv.cuni.cz/en/staff/paulus',\n",
       " 'http://ies.fsv.cuni.cz/en/staff/neprasova',\n",
       " 'http://ies.fsv.cuni.cz/en/staff/gebicka',\n",
       " 'http://ies.fsv.cuni.cz/en/staff/pinter',\n",
       " 'http://ies.fsv.cuni.cz/en/staff/scasny',\n",
       " 'http://ies.fsv.cuni.cz/en/staff/schneider',\n",
       " 'http://ies.fsv.cuni.cz/en/staff/schwarz',\n",
       " 'http://ies.fsv.cuni.cz/en/staff/semerak',\n",
       " 'http://ies.fsv.cuni.cz/en/staff/reckova',\n",
       " 'http://ies.fsv.cuni.cz/en/staff/gregorovalenka',\n",
       " 'http://ies.fsv.cuni.cz/en/staff/reichlova',\n",
       " 'http://ies.fsv.cuni.cz/en/staff/teply',\n",
       " 'http://ies.fsv.cuni.cz/en/staff/turnovec',\n",
       " 'http://ies.fsv.cuni.cz/en/staff/vacek',\n",
       " 'http://ies.fsv.cuni.cz/en/staff/vacha',\n",
       " 'http://ies.fsv.cuni.cz/en/staff/visek',\n",
       " 'http://ies.fsv.cuni.cz/en/staff/vosvrda',\n",
       " 'http://ies.fsv.cuni.cz/en/staff/prochazkova',\n",
       " 'http://ies.fsv.cuni.cz/en/staff/zacek']"
      ]
     },
     "execution_count": 51,
     "metadata": {},
     "output_type": "execute_result"
    }
   ],
   "source": [
    "def getAllLinks(link):\n",
    "    soup = getSoup(link)\n",
    "    #Tracer()()\n",
    "    tds = soup.findAll('td', {'class':'peopleTableCellName'})\n",
    "    #return tds\n",
    "    return ['http://ies.fsv.cuni.cz' + td.find('a')['href'] for td in tds] # list comprehension\n",
    "\n",
    "#list comprehension: [x['...'] for x in list] (do something for x in list)\n",
    "#dictionary comprehension: {x:x.attribute for x in list}\n",
    "\n",
    "personLinks = getAllLinks('http://ies.fsv.cuni.cz/en/node/48')\n",
    "personLinks"
   ]
  },
  {
   "cell_type": "markdown",
   "metadata": {},
   "source": [
    "## Person's characteristics?"
   ]
  },
  {
   "cell_type": "code",
   "execution_count": 55,
   "metadata": {},
   "outputs": [
    {
     "data": {
      "text/plain": [
       "['doc. PhDr. Jozef Baruník Ph.D.',\n",
       " 'doc. PhDr. Michal Bauer Ph.D.',\n",
       " 'PhDr. Jaromír Baxa Ph.D.',\n",
       " 'PhDr. Lucie Bryndová ',\n",
       " 'doc. Ing. Tomáš Cahlík CSc.',\n",
       " 'PhDr. František Čech ',\n",
       " 'RNDr. Michal Červinka Ph.D.',\n",
       " 'doc. PhDr. Julie Chytilová Ph.D.',\n",
       " 'prof. Ing. Oldřich Dědek CSc.',\n",
       " 'doc. PhDr. Ing. Antonie Doležalová Ph.D.',\n",
       " 'doc. PhDr. Adam Geršl Ph.D.',\n",
       " 'doc. PhDr. Martin Gregor Ph.D.',\n",
       " 'doc. PhDr. Tomáš Havránek Ph.D.',\n",
       " 'doc. PhDr. Zuzana Havránková Ph.D.',\n",
       " 'PhDr. Michal Hlaváček Ph.D.',\n",
       " 'Ing. Monika Hollmannová ',\n",
       " 'doc. Mgr. Tomáš Holub Ph.D.',\n",
       " 'prof. Roman Horváth Ph.D.',\n",
       " 'doc. PhDr. Ing. Ing. Petr Jakubík Ph.D. Ph.D.',\n",
       " 'prof. Ing. Karel Janda M.A., Dr., Ph.D.',\n",
       " 'doc. Petr Janský Ph.D.',\n",
       " 'Ing. Irena Kemény ',\n",
       " 'prof. Ing. Evžen Kočenda M.A., Ph.D., DSc.',\n",
       " 'prof. Ing. et Ing. Luboš Komárek Ph.D., MSc., MBA',\n",
       " 'Mgr. Vědunka Kopečná ',\n",
       " 'doc. PhDr. Ladislav Krištoufek Ph.D.',\n",
       " 'PhDr. Jiří Kukačka Ph.D.',\n",
       " 'prof. Ing. Michal Mejstřík CSc.',\n",
       " 'Mgr. Ing. Matěj Nevrla ',\n",
       " ' Jiří Novák M.Sc., Ph.D., Deloitte Corporate Chair',\n",
       " 'Mgr. Tereza Palanská M.A.',\n",
       " 'Mgr. Michal Paulus ',\n",
       " 'Mgr. Magda Pečená  Ph.D.',\n",
       " 'Mgr. Barbara Pertold-Gebická M.A., Ph.D.',\n",
       " ' Julien Pinter Ph.D.',\n",
       " 'Mgr. Milan Ščasný PhD.',\n",
       " 'doc. Ing. Ondřej Schneider MPhil., Ph.D.',\n",
       " 'PhDr. Jiří Schwarz Ph.D.',\n",
       " 'Ing. Vilém Semerák M.A., Ph.D.',\n",
       " 'Mgr. Dominika Špolcová ',\n",
       " 'PhDr. Lenka Šťastná Ph.D.',\n",
       " 'PhDr. Natálie Švarcová Ph.D.',\n",
       " 'doc. PhDr. Petr Teplý Ph.D.',\n",
       " 'prof. RNDr. Ing. František Turnovec CSc.',\n",
       " 'PhDr. Pavel Vacek Ph.D.',\n",
       " 'Mgr. Lukáš Vácha Ph.D.',\n",
       " 'prof. RNDr. Jan Ámos Víšek CSc.',\n",
       " 'prof. Ing. Miloslav Vošvrda CSc.',\n",
       " 'PhDr. Jana Votápková ',\n",
       " 'Mgr. Jan Žáček ']"
      ]
     },
     "execution_count": 55,
     "metadata": {},
     "output_type": "execute_result"
    }
   ],
   "source": [
    "# extract full names and titles\n",
    "def getName(link):\n",
    "    soup = getSoup(link)\n",
    "    return soup.find('h2').text\n",
    "\n",
    "# try function:\n",
    "getName('http://ies.fsv.cuni.cz/cs/staff/barunik')\n",
    "[getName(link) for link in personLinks]"
   ]
  },
  {
   "cell_type": "code",
   "execution_count": 32,
   "metadata": {},
   "outputs": [
    {
     "data": {
      "text/plain": [
       "['barunik',\n",
       " 'bauerm',\n",
       " 'baxajaromir',\n",
       " 'antosova',\n",
       " 'cahlik',\n",
       " 'fcech',\n",
       " 'cervinka',\n",
       " 'chytilova',\n",
       " 'dedek',\n",
       " 'dolezalova',\n",
       " 'gersl',\n",
       " 'gregor',\n",
       " 'havranek',\n",
       " 'irsova',\n",
       " 'hlavacekm',\n",
       " 'hollmannov',\n",
       " 'holub',\n",
       " 'horvath',\n",
       " 'jakubik',\n",
       " 'janda',\n",
       " 'jansky',\n",
       " 'kemenyova',\n",
       " 'kocenda',\n",
       " 'komarek',\n",
       " 'kopecna',\n",
       " 'kristoufek',\n",
       " 'kukacka',\n",
       " 'mejstrik',\n",
       " 'nevrla',\n",
       " 'novakji',\n",
       " 'malirova',\n",
       " 'paulus',\n",
       " 'neprasova',\n",
       " 'gebicka',\n",
       " 'pinter',\n",
       " 'scasny',\n",
       " 'schneider',\n",
       " 'schwarz',\n",
       " 'semerak',\n",
       " 'reckova',\n",
       " 'gregorovalenka',\n",
       " 'reichlova',\n",
       " 'teply',\n",
       " 'turnovec',\n",
       " 'vacek',\n",
       " 'vacha',\n",
       " 'visek',\n",
       " 'vosvrda',\n",
       " 'prochazkova',\n",
       " 'zacek']"
      ]
     },
     "execution_count": 32,
     "metadata": {},
     "output_type": "execute_result"
    }
   ],
   "source": [
    "def getID(link): \n",
    "    #http://ies.fsv.cuni.cz/cs/staff/barunik # extract just the last name\n",
    "    return link.split('/')[-1] \n",
    "\n",
    "[getID(link) for link in personLinks]"
   ]
  },
  {
   "cell_type": "code",
   "execution_count": 92,
   "metadata": {},
   "outputs": [],
   "source": [
    "def getOneCharacteristic(link, characteristic):\n",
    "    soup = getSoup(link)\n",
    "    strong = soup.find('strong', text = characteristic)\n",
    "    return strong.next_sibling #strong.next_sibling.text OR strong.next_sibling\n",
    "\n",
    "getOneCharacteristic('http://ies.fsv.cuni.cz/en/staff/barunik', 'Field of interest:')\n",
    "\n",
    "#[getOneCharacteristic(link, 'Field of interest:') for link in personLinks]\n",
    "#[getOneCharacteristic(link, 'Phone:') for link in personLinks]"
   ]
  },
  {
   "cell_type": "code",
   "execution_count": 102,
   "metadata": {
    "scrolled": true
   },
   "outputs": [
    {
     "ename": "AttributeError",
     "evalue": "'NavigableString' object has no attribute 'get_text'",
     "output_type": "error",
     "traceback": [
      "\u001b[1;31m---------------------------------------------------------------------------\u001b[0m",
      "\u001b[1;31mAttributeError\u001b[0m                            Traceback (most recent call last)",
      "\u001b[1;32m<ipython-input-102-7aa8600c1744>\u001b[0m in \u001b[0;36m<module>\u001b[1;34m\u001b[0m\n\u001b[0;32m      7\u001b[0m     \u001b[1;32mreturn\u001b[0m \u001b[1;33m[\u001b[0m\u001b[0mGetOneCharacteristic\u001b[0m\u001b[1;33m(\u001b[0m\u001b[0mlink\u001b[0m\u001b[1;33m,\u001b[0m \u001b[0mchar\u001b[0m\u001b[1;33m)\u001b[0m \u001b[1;32mfor\u001b[0m \u001b[0mchar\u001b[0m \u001b[1;32min\u001b[0m \u001b[0mcharacteristics\u001b[0m\u001b[1;33m]\u001b[0m\u001b[1;33m\u001b[0m\u001b[1;33m\u001b[0m\u001b[0m\n\u001b[0;32m      8\u001b[0m \u001b[1;33m\u001b[0m\u001b[0m\n\u001b[1;32m----> 9\u001b[1;33m \u001b[0mgetOneCharacteristic\u001b[0m\u001b[1;33m(\u001b[0m\u001b[1;34m'http://ies.fsv.cuni.cz/en/staff/barunik'\u001b[0m\u001b[1;33m,\u001b[0m \u001b[1;34m'Field of interest:'\u001b[0m\u001b[1;33m)\u001b[0m\u001b[1;33m\u001b[0m\u001b[1;33m\u001b[0m\u001b[0m\n\u001b[0m\u001b[0;32m     10\u001b[0m \u001b[1;31m#GetMoreChar('http://ies.fsv.cuni.cz/en/staff/barunik', ['Phone:', 'Office:'])\u001b[0m\u001b[1;33m\u001b[0m\u001b[1;33m\u001b[0m\u001b[1;33m\u001b[0m\u001b[0m\n\u001b[0;32m     11\u001b[0m \u001b[1;31m#[GetMoreChar(personLinks, ['Phone:', 'Office:']) for link in personLinks]\u001b[0m\u001b[1;33m\u001b[0m\u001b[1;33m\u001b[0m\u001b[1;33m\u001b[0m\u001b[0m\n",
      "\u001b[1;32m<ipython-input-102-7aa8600c1744>\u001b[0m in \u001b[0;36mgetOneCharacteristic\u001b[1;34m(link, characteristic)\u001b[0m\n\u001b[0;32m      2\u001b[0m     \u001b[0msoup\u001b[0m \u001b[1;33m=\u001b[0m \u001b[0mgetSoup\u001b[0m\u001b[1;33m(\u001b[0m\u001b[0mlink\u001b[0m\u001b[1;33m)\u001b[0m\u001b[1;33m\u001b[0m\u001b[1;33m\u001b[0m\u001b[0m\n\u001b[0;32m      3\u001b[0m     \u001b[0mstrong\u001b[0m \u001b[1;33m=\u001b[0m \u001b[0msoup\u001b[0m\u001b[1;33m.\u001b[0m\u001b[0mfind\u001b[0m\u001b[1;33m(\u001b[0m\u001b[1;34m'strong'\u001b[0m\u001b[1;33m,\u001b[0m \u001b[0mtext\u001b[0m \u001b[1;33m=\u001b[0m \u001b[0mcharacteristic\u001b[0m\u001b[1;33m)\u001b[0m\u001b[1;33m\u001b[0m\u001b[1;33m\u001b[0m\u001b[0m\n\u001b[1;32m----> 4\u001b[1;33m     \u001b[1;32mreturn\u001b[0m \u001b[0mstrong\u001b[0m\u001b[1;33m.\u001b[0m\u001b[0mnext_sibling\u001b[0m\u001b[1;33m.\u001b[0m\u001b[0mget_text\u001b[0m \u001b[1;31m#strong.next_sibling.text OR strong.next_sibling\u001b[0m\u001b[1;33m\u001b[0m\u001b[1;33m\u001b[0m\u001b[0m\n\u001b[0m\u001b[0;32m      5\u001b[0m \u001b[1;33m\u001b[0m\u001b[0m\n\u001b[0;32m      6\u001b[0m \u001b[1;32mdef\u001b[0m \u001b[0mGetMoreChar\u001b[0m\u001b[1;33m(\u001b[0m\u001b[0mlink\u001b[0m\u001b[1;33m,\u001b[0m \u001b[0mcharacteristics\u001b[0m\u001b[1;33m)\u001b[0m\u001b[1;33m:\u001b[0m\u001b[1;33m\u001b[0m\u001b[1;33m\u001b[0m\u001b[0m\n",
      "\u001b[1;32m~\\Anaconda3\\lib\\site-packages\\bs4\\element.py\u001b[0m in \u001b[0;36m__getattr__\u001b[1;34m(self, attr)\u001b[0m\n\u001b[0;32m    795\u001b[0m             raise AttributeError(\n\u001b[0;32m    796\u001b[0m                 \"'%s' object has no attribute '%s'\" % (\n\u001b[1;32m--> 797\u001b[1;33m                     self.__class__.__name__, attr))\n\u001b[0m\u001b[0;32m    798\u001b[0m \u001b[1;33m\u001b[0m\u001b[0m\n\u001b[0;32m    799\u001b[0m     \u001b[1;32mdef\u001b[0m \u001b[0moutput_ready\u001b[0m\u001b[1;33m(\u001b[0m\u001b[0mself\u001b[0m\u001b[1;33m,\u001b[0m \u001b[0mformatter\u001b[0m\u001b[1;33m=\u001b[0m\u001b[1;34m\"minimal\"\u001b[0m\u001b[1;33m)\u001b[0m\u001b[1;33m:\u001b[0m\u001b[1;33m\u001b[0m\u001b[1;33m\u001b[0m\u001b[0m\n",
      "\u001b[1;31mAttributeError\u001b[0m: 'NavigableString' object has no attribute 'get_text'"
     ]
    }
   ],
   "source": [
    "def getOneCharacteristic(link, characteristic):\n",
    "    soup = getSoup(link)\n",
    "    strong = soup.find('strong', text = characteristic)\n",
    "    return strong.next_sibling #strong.next_sibling.text OR strong.next_sibling\n",
    "\n",
    "def GetMoreChar(link, characteristics):\n",
    "    return [GetOneCharacteristic(link, char) for char in characteristics]\n",
    "\n",
    "getOneCharacteristic('http://ies.fsv.cuni.cz/en/staff/barunik', 'Field of interest:')\n",
    "#GetMoreChar('http://ies.fsv.cuni.cz/en/staff/barunik', ['Phone:', 'Office:'])\n",
    "#[GetMoreChar(personLinks, ['Phone:', 'Office:']) for link in personLinks]"
   ]
  },
  {
   "cell_type": "code",
   "execution_count": 97,
   "metadata": {},
   "outputs": [],
   "source": [
    "def getAnotherCharacteristic(link,characteristic):\n",
    "    return [GetOneCharacteristic(link, char) for char in characteristic]\n",
    "\n",
    "#getOneCharacteristic('http://ies.fsv.cuni.cz/en/staff/barunik', 'Field of interest:')\n",
    "#getAnotherCharacteristic('http://ies.fsv.cuni.cz/en/staff/barunik', ['Phone:', 'Office:'])\n",
    "# NEVIM! :("
   ]
  },
  {
   "cell_type": "markdown",
   "metadata": {},
   "source": [
    "* Let's do an object!"
   ]
  },
  {
   "cell_type": "code",
   "execution_count": 40,
   "metadata": {},
   "outputs": [
    {
     "ename": "NameError",
     "evalue": "name 'self' is not defined",
     "output_type": "error",
     "traceback": [
      "\u001b[1;31m---------------------------------------------------------------------------\u001b[0m",
      "\u001b[1;31mNameError\u001b[0m                                 Traceback (most recent call last)",
      "\u001b[1;32m<ipython-input-40-fb2ccd8787ce>\u001b[0m in \u001b[0;36m<module>\u001b[1;34m\u001b[0m\n\u001b[0;32m     10\u001b[0m         \u001b[1;32mreturn\u001b[0m \u001b[0mstrong\u001b[0m\u001b[1;33m.\u001b[0m\u001b[0mnext_sibling\u001b[0m\u001b[1;33m\u001b[0m\u001b[1;33m\u001b[0m\u001b[0m\n\u001b[0;32m     11\u001b[0m \u001b[1;33m\u001b[0m\u001b[0m\n\u001b[1;32m---> 12\u001b[1;33m \u001b[0mpeople\u001b[0m \u001b[1;33m=\u001b[0m \u001b[1;33m[\u001b[0m\u001b[0mPerson\u001b[0m\u001b[1;33m(\u001b[0m\u001b[0mlink\u001b[0m\u001b[1;33m)\u001b[0m \u001b[1;32mfor\u001b[0m \u001b[0mlink\u001b[0m \u001b[1;32min\u001b[0m \u001b[0mpersonLinks\u001b[0m\u001b[1;33m]\u001b[0m\u001b[1;33m\u001b[0m\u001b[1;33m\u001b[0m\u001b[0m\n\u001b[0m\u001b[0;32m     13\u001b[0m \u001b[1;33m[\u001b[0m\u001b[0mp\u001b[0m\u001b[1;33m.\u001b[0m\u001b[0mphone\u001b[0m \u001b[1;32mfor\u001b[0m \u001b[0mp\u001b[0m \u001b[1;32min\u001b[0m \u001b[0mpeople\u001b[0m\u001b[1;33m]\u001b[0m\u001b[1;33m\u001b[0m\u001b[1;33m\u001b[0m\u001b[0m\n",
      "\u001b[1;32m<ipython-input-40-fb2ccd8787ce>\u001b[0m in \u001b[0;36m<listcomp>\u001b[1;34m(.0)\u001b[0m\n\u001b[0;32m     10\u001b[0m         \u001b[1;32mreturn\u001b[0m \u001b[0mstrong\u001b[0m\u001b[1;33m.\u001b[0m\u001b[0mnext_sibling\u001b[0m\u001b[1;33m\u001b[0m\u001b[1;33m\u001b[0m\u001b[0m\n\u001b[0;32m     11\u001b[0m \u001b[1;33m\u001b[0m\u001b[0m\n\u001b[1;32m---> 12\u001b[1;33m \u001b[0mpeople\u001b[0m \u001b[1;33m=\u001b[0m \u001b[1;33m[\u001b[0m\u001b[0mPerson\u001b[0m\u001b[1;33m(\u001b[0m\u001b[0mlink\u001b[0m\u001b[1;33m)\u001b[0m \u001b[1;32mfor\u001b[0m \u001b[0mlink\u001b[0m \u001b[1;32min\u001b[0m \u001b[0mpersonLinks\u001b[0m\u001b[1;33m]\u001b[0m\u001b[1;33m\u001b[0m\u001b[1;33m\u001b[0m\u001b[0m\n\u001b[0m\u001b[0;32m     13\u001b[0m \u001b[1;33m[\u001b[0m\u001b[0mp\u001b[0m\u001b[1;33m.\u001b[0m\u001b[0mphone\u001b[0m \u001b[1;32mfor\u001b[0m \u001b[0mp\u001b[0m \u001b[1;32min\u001b[0m \u001b[0mpeople\u001b[0m\u001b[1;33m]\u001b[0m\u001b[1;33m\u001b[0m\u001b[1;33m\u001b[0m\u001b[0m\n",
      "\u001b[1;32m<ipython-input-40-fb2ccd8787ce>\u001b[0m in \u001b[0;36m__init__\u001b[1;34m(self, link)\u001b[0m\n\u001b[0;32m      3\u001b[0m     \u001b[1;32mdef\u001b[0m \u001b[0m__init__\u001b[0m\u001b[1;33m(\u001b[0m\u001b[0mself\u001b[0m\u001b[1;33m,\u001b[0m\u001b[0mlink\u001b[0m\u001b[1;33m)\u001b[0m\u001b[1;33m:\u001b[0m\u001b[1;33m\u001b[0m\u001b[1;33m\u001b[0m\u001b[0m\n\u001b[0;32m      4\u001b[0m         \u001b[0mself\u001b[0m\u001b[1;33m.\u001b[0m\u001b[0msoup\u001b[0m \u001b[1;33m=\u001b[0m \u001b[0mgetSoup\u001b[0m\u001b[1;33m(\u001b[0m\u001b[0mlink\u001b[0m\u001b[1;33m)\u001b[0m\u001b[1;33m\u001b[0m\u001b[1;33m\u001b[0m\u001b[0m\n\u001b[1;32m----> 5\u001b[1;33m         \u001b[0mself\u001b[0m\u001b[1;33m.\u001b[0m\u001b[0moffice\u001b[0m \u001b[1;33m=\u001b[0m \u001b[0mself\u001b[0m\u001b[1;33m.\u001b[0m\u001b[0mgetNextSiblingOfStrong\u001b[0m\u001b[1;33m(\u001b[0m\u001b[1;34m'Office:'\u001b[0m\u001b[1;33m)\u001b[0m\u001b[1;33m\u001b[0m\u001b[1;33m\u001b[0m\u001b[0m\n\u001b[0m\u001b[0;32m      6\u001b[0m         \u001b[0mself\u001b[0m\u001b[1;33m.\u001b[0m\u001b[0mphone\u001b[0m \u001b[1;33m=\u001b[0m \u001b[0mself\u001b[0m\u001b[1;33m.\u001b[0m\u001b[0mgetNextSiblingOfStrong\u001b[0m\u001b[1;33m(\u001b[0m\u001b[1;34m'Phone:'\u001b[0m\u001b[1;33m)\u001b[0m\u001b[1;33m\u001b[0m\u001b[1;33m\u001b[0m\u001b[0m\n\u001b[0;32m      7\u001b[0m \u001b[1;33m\u001b[0m\u001b[0m\n",
      "\u001b[1;32m<ipython-input-40-fb2ccd8787ce>\u001b[0m in \u001b[0;36mgetNextSiblingOfStrong\u001b[1;34m(link, characteristic)\u001b[0m\n\u001b[0;32m      7\u001b[0m \u001b[1;33m\u001b[0m\u001b[0m\n\u001b[0;32m      8\u001b[0m     \u001b[1;32mdef\u001b[0m \u001b[0mgetNextSiblingOfStrong\u001b[0m\u001b[1;33m(\u001b[0m\u001b[0mlink\u001b[0m\u001b[1;33m,\u001b[0m \u001b[0mcharacteristic\u001b[0m\u001b[1;33m)\u001b[0m\u001b[1;33m:\u001b[0m\u001b[1;33m\u001b[0m\u001b[1;33m\u001b[0m\u001b[0m\n\u001b[1;32m----> 9\u001b[1;33m         \u001b[0mstrong\u001b[0m \u001b[1;33m=\u001b[0m \u001b[0mself\u001b[0m\u001b[1;33m.\u001b[0m\u001b[0msoup\u001b[0m\u001b[1;33m.\u001b[0m\u001b[0mfind\u001b[0m\u001b[1;33m(\u001b[0m\u001b[1;34m'strong'\u001b[0m\u001b[1;33m,\u001b[0m \u001b[0mtext\u001b[0m \u001b[1;33m=\u001b[0m \u001b[0mcharacteristic\u001b[0m\u001b[1;33m)\u001b[0m\u001b[1;33m\u001b[0m\u001b[1;33m\u001b[0m\u001b[0m\n\u001b[0m\u001b[0;32m     10\u001b[0m         \u001b[1;32mreturn\u001b[0m \u001b[0mstrong\u001b[0m\u001b[1;33m.\u001b[0m\u001b[0mnext_sibling\u001b[0m\u001b[1;33m\u001b[0m\u001b[1;33m\u001b[0m\u001b[0m\n\u001b[0;32m     11\u001b[0m \u001b[1;33m\u001b[0m\u001b[0m\n",
      "\u001b[1;31mNameError\u001b[0m: name 'self' is not defined"
     ]
    }
   ],
   "source": [
    "# pevious process took too long bc. we called getSoup twice actually -> make class, use self.---\n",
    "class Person:\n",
    "    def __init__(self,link):\n",
    "        self.soup = getSoup(link)\n",
    "        self.office = self.getNextSiblingOfStrong('Office:')\n",
    "        self.phone = self.getNextSiblingOfStrong('Phone:')\n",
    "        \n",
    "    def getNextSiblingOfStrong(link, characteristic):\n",
    "        strong = self.soup.find('strong', text = characteristic)\n",
    "        return strong.next_sibling\n",
    "\n",
    "people = [Person(link) for link in personLinks]\n",
    "[p.phone for p in people]"
   ]
  },
  {
   "cell_type": "markdown",
   "metadata": {},
   "source": [
    "## Thesis characteristics?"
   ]
  },
  {
   "cell_type": "code",
   "execution_count": null,
   "metadata": {},
   "outputs": [],
   "source": [
    "dl = IES_Downloader(allowLog=False)\n",
    "dl.getThesesLinksForCategory('http://ies.fsv.cuni.cz/en/node/270/','Doctoral')\n",
    "thesesLinks = dl.links['theses']['Doctoral']"
   ]
  },
  {
   "cell_type": "code",
   "execution_count": null,
   "metadata": {},
   "outputs": [],
   "source": []
  },
  {
   "cell_type": "code",
   "execution_count": null,
   "metadata": {},
   "outputs": [],
   "source": [
    "class Thesis:\n",
    "    def __init__(self,link):\n",
    "        pass\n",
    "\n",
    "theses = []\n",
    "for t in tqdm(thesesLinks):\n",
    "    theses.append(Thesis(t))"
   ]
  },
  {
   "cell_type": "code",
   "execution_count": null,
   "metadata": {},
   "outputs": [],
   "source": []
  },
  {
   "cell_type": "markdown",
   "metadata": {},
   "source": [
    "* We are lazy programmers!"
   ]
  },
  {
   "cell_type": "code",
   "execution_count": null,
   "metadata": {},
   "outputs": [],
   "source": [
    "class Parent:\n",
    "    pass\n",
    "\n",
    "class Thesis(Parent):\n",
    "    pass\n",
    "\n",
    "class Person(Parent):\n",
    "    pass"
   ]
  },
  {
   "cell_type": "markdown",
   "metadata": {},
   "source": [
    "See **IES_Pages.py**"
   ]
  },
  {
   "cell_type": "markdown",
   "metadata": {},
   "source": [
    "### Last object missing"
   ]
  },
  {
   "cell_type": "code",
   "execution_count": null,
   "metadata": {},
   "outputs": [],
   "source": []
  },
  {
   "cell_type": "markdown",
   "metadata": {},
   "source": [
    "see **IES_Downloader.py**"
   ]
  },
  {
   "cell_type": "markdown",
   "metadata": {},
   "source": [
    "# Object Structure"
   ]
  },
  {
   "cell_type": "code",
   "execution_count": null,
   "metadata": {},
   "outputs": [],
   "source": []
  },
  {
   "cell_type": "code",
   "execution_count": null,
   "metadata": {},
   "outputs": [],
   "source": []
  },
  {
   "cell_type": "code",
   "execution_count": null,
   "metadata": {},
   "outputs": [],
   "source": []
  },
  {
   "cell_type": "code",
   "execution_count": null,
   "metadata": {},
   "outputs": [],
   "source": []
  },
  {
   "cell_type": "code",
   "execution_count": null,
   "metadata": {},
   "outputs": [],
   "source": []
  }
 ],
 "metadata": {
  "kernelspec": {
   "display_name": "Python 3",
   "language": "python",
   "name": "python3"
  },
  "language_info": {
   "codemirror_mode": {
    "name": "ipython",
    "version": 3
   },
   "file_extension": ".py",
   "mimetype": "text/x-python",
   "name": "python",
   "nbconvert_exporter": "python",
   "pygments_lexer": "ipython3",
   "version": "3.7.1"
  }
 },
 "nbformat": 4,
 "nbformat_minor": 2
}

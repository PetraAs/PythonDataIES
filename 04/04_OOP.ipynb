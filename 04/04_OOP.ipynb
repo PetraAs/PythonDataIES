{
 "cells": [
  {
   "cell_type": "markdown",
   "metadata": {},
   "source": [
    "# Lecture 04\n",
    "by Martin Hronec <br>\n",
    "March 13-14\n",
    "\n",
    "\n",
    "### Table of contents\n",
    "\n",
    "* [Object-oriented programming](#OOP)"
   ]
  },
  {
   "cell_type": "markdown",
   "metadata": {},
   "source": [
    "# OOP \n",
    "* the traditional (at least for us) programming paradigm is called **procedural** (Fortran, C, MATLAB, etc.)\n",
    "    * we have data (variables) in different states\n",
    "    * we call functions on these data\n",
    "* in OOP *data* and *functions* (methods) are “bundled together” into **objects**\n",
    "* OOP supported in many languages:\n",
    "    * R is more procedural with some (rather atypical) OOP blend\n",
    "    * JAVA and Ruby are pure OOP\n",
    "    * Fortran and MATLAB are mainly procedural (recently OOP tacked on)\n",
    "    * C is procedural, C++ is C with OOP added on to\n",
    "* Python is a blends object oriented and procedural styles, rather than OOP only\n",
    "    * most of the times (especially for small programs) you can use procedural programming\n",
    "* however, at a foundational level, Python is object oriented (the more complex the programm the more usefull the OOP paradigm)\n",
    "* everything in memory is treated as an object\n",
    "    * functions (once they have been read into memory) \n",
    "    * modules \n",
    "    * files opened for reading or writing\n",
    "    * integers, etc.\n",
    " \n",
    "* OOP used for modeling complex systems by describing a collection of interacting objects via their data and behavior\n",
    "* useful when working on problems where there is some common structure in it\n",
    "    * a statistical model consists of coefficients, data, derived metrics, etc.\n",
    "    * a game consists of a list of players, lists of actions available to each player, player payoffs as functions of all players’ actions, and a timing protocol\n",
    "    * a market consists of buyers, sellers and intermediaries\n",
    "* abstractions that collect together “objects” of the same “type”\n",
    "    * recognizing common structure allows us to employ common tools\n",
    "\n",
    "* OOP paradigm should be implemented using these steps\n",
    "    * OOA (analysis), OOD (design) and OOP\n",
    "        * ideally separated, in reality overlapping and repeating \n",
    "        \n",
    "* to represent OOP structure, use [Unified Modeling Language (UML)](https://www.uml-diagrams.org/index-examples.html)\n",
    "    * easy-to-draw and easy-to-read\n",
    "    * most of the things are optional (only specify as much information in a diagram as makes sense for the current situation\n",
    "    * con: UML diagrams are going to be redundant before they're implemented \n",
    "        * the most important person you will ever have to communicate with is yourself (why did I do design decision?)\n",
    "\n",
    "\n",
    "## Objects\n",
    "* an object is a collection of data and instructions held in computer memory that consists of:\n",
    "    * a type\n",
    "    * an unique identity\n",
    "    * data (content)\n",
    "    * methods\n",
    "    \n",
    "### Type\n",
    "* different types of objects, to accommodate different categories of data"
   ]
  },
  {
   "cell_type": "code",
   "execution_count": 328,
   "metadata": {},
   "outputs": [
    {
     "data": {
      "text/plain": [
       "str"
      ]
     },
     "execution_count": 328,
     "metadata": {},
     "output_type": "execute_result"
    }
   ],
   "source": [
    "s = 'A string'\n",
    "type(s)"
   ]
  },
  {
   "cell_type": "code",
   "execution_count": 329,
   "metadata": {},
   "outputs": [
    {
     "data": {
      "text/plain": [
       "int"
      ]
     },
     "execution_count": 329,
     "metadata": {},
     "output_type": "execute_result"
    }
   ],
   "source": [
    "x = 42 \n",
    "type(x)"
   ]
  },
  {
   "cell_type": "code",
   "execution_count": 330,
   "metadata": {},
   "outputs": [
    {
     "data": {
      "text/plain": [
       "module"
      ]
     },
     "execution_count": 330,
     "metadata": {},
     "output_type": "execute_result"
    }
   ],
   "source": [
    "import numpy as np\n",
    "type(np)"
   ]
  },
  {
   "cell_type": "markdown",
   "metadata": {},
   "source": [
    "* the type of an object matters for many expressions, e.g.\n",
    "    * the addition operator between two strings = concatenation\n",
    "    * vs. the addition between two integers or floats"
   ]
  },
  {
   "cell_type": "code",
   "execution_count": 1,
   "metadata": {},
   "outputs": [
    {
     "data": {
      "text/plain": [
       "'100cc'"
      ]
     },
     "execution_count": 1,
     "metadata": {},
     "output_type": "execute_result"
    }
   ],
   "source": [
    "'100' + 'cc'"
   ]
  },
  {
   "cell_type": "code",
   "execution_count": 336,
   "metadata": {},
   "outputs": [
    {
     "data": {
      "text/plain": [
       "447"
      ]
     },
     "execution_count": 336,
     "metadata": {},
     "output_type": "execute_result"
    }
   ],
   "source": [
    "100 + 347"
   ]
  },
  {
   "cell_type": "code",
   "execution_count": 337,
   "metadata": {},
   "outputs": [
    {
     "ename": "TypeError",
     "evalue": "can only concatenate str (not \"int\") to str",
     "output_type": "error",
     "traceback": [
      "\u001b[1;31m---------------------------------------------------------------------------\u001b[0m",
      "\u001b[1;31mTypeError\u001b[0m                                 Traceback (most recent call last)",
      "\u001b[1;32m<ipython-input-337-91d74904b6f6>\u001b[0m in \u001b[0;36m<module>\u001b[1;34m\u001b[0m\n\u001b[0;32m      1\u001b[0m \u001b[1;31m# mixing types, not clear what to do\u001b[0m\u001b[1;33m\u001b[0m\u001b[1;33m\u001b[0m\u001b[1;33m\u001b[0m\u001b[0m\n\u001b[1;32m----> 2\u001b[1;33m \u001b[1;34m'100'\u001b[0m \u001b[1;33m+\u001b[0m \u001b[1;36m347\u001b[0m\u001b[1;33m\u001b[0m\u001b[1;33m\u001b[0m\u001b[0m\n\u001b[0m",
      "\u001b[1;31mTypeError\u001b[0m: can only concatenate str (not \"int\") to str"
     ]
    }
   ],
   "source": [
    "# mixing types, not clear what to do\n",
    "'100' + 347"
   ]
  },
  {
   "cell_type": "markdown",
   "metadata": {},
   "source": [
    "* here we are mixing types, and it’s unclear to Python whether the user wants to\n",
    "  * convert '100' to an integer and then add it to 400, or\n",
    "  * convert 347 to string and then concatenate it with '300'\n",
    "* to avoid the error, you need to clarify by changing the relevant type"
   ]
  },
  {
   "cell_type": "code",
   "execution_count": 339,
   "metadata": {},
   "outputs": [
    {
     "data": {
      "text/plain": [
       "447"
      ]
     },
     "execution_count": 339,
     "metadata": {},
     "output_type": "execute_result"
    }
   ],
   "source": [
    "int('100') + 347  # To add as numbers, change the string to an integer"
   ]
  },
  {
   "cell_type": "markdown",
   "metadata": {},
   "source": [
    "### Identity\n",
    "* each object has a unique identifier, which helps Python (and us) keep track of the object\n",
    "* the identity of an object can be obtained via the `id()` function"
   ]
  },
  {
   "cell_type": "code",
   "execution_count": 340,
   "metadata": {},
   "outputs": [
    {
     "name": "stdout",
     "output_type": "stream",
     "text": [
      "143360072\n"
     ]
    },
    {
     "data": {
      "text/plain": [
       "94638608"
      ]
     },
     "execution_count": 340,
     "metadata": {},
     "output_type": "execute_result"
    }
   ],
   "source": [
    "y = 2.5\n",
    "z = 2.5\n",
    "print(id(y))\n",
    "id(z)"
   ]
  },
  {
   "cell_type": "code",
   "execution_count": 341,
   "metadata": {},
   "outputs": [
    {
     "data": {
      "text/plain": [
       "31907096"
      ]
     },
     "execution_count": 341,
     "metadata": {},
     "output_type": "execute_result"
    }
   ],
   "source": [
    "id(np)"
   ]
  },
  {
   "cell_type": "markdown",
   "metadata": {},
   "source": [
    "* y and z happen to have the same value, but they are not the same object\n",
    "    * the identity of an object is just the address of the object in memory"
   ]
  },
  {
   "cell_type": "markdown",
   "metadata": {},
   "source": [
    "### Data and Attributes\n",
    "* if we set `x = 42` then we create an object of type int that contains the data 42\n",
    "    * however, it contains much more:"
   ]
  },
  {
   "cell_type": "code",
   "execution_count": 3,
   "metadata": {},
   "outputs": [
    {
     "data": {
      "text/plain": [
       "42"
      ]
     },
     "execution_count": 3,
     "metadata": {},
     "output_type": "execute_result"
    }
   ],
   "source": [
    "x = 42\n",
    "x"
   ]
  },
  {
   "cell_type": "code",
   "execution_count": 4,
   "metadata": {},
   "outputs": [
    {
     "data": {
      "text/plain": [
       "['__abs__',\n",
       " '__add__',\n",
       " '__and__',\n",
       " '__bool__',\n",
       " '__ceil__',\n",
       " '__class__',\n",
       " '__delattr__',\n",
       " '__dir__',\n",
       " '__divmod__',\n",
       " '__doc__',\n",
       " '__eq__',\n",
       " '__float__',\n",
       " '__floor__',\n",
       " '__floordiv__',\n",
       " '__format__',\n",
       " '__ge__',\n",
       " '__getattribute__',\n",
       " '__getnewargs__',\n",
       " '__gt__',\n",
       " '__hash__',\n",
       " '__index__',\n",
       " '__init__',\n",
       " '__init_subclass__',\n",
       " '__int__',\n",
       " '__invert__',\n",
       " '__le__',\n",
       " '__lshift__',\n",
       " '__lt__',\n",
       " '__mod__',\n",
       " '__mul__',\n",
       " '__ne__',\n",
       " '__neg__',\n",
       " '__new__',\n",
       " '__or__',\n",
       " '__pos__',\n",
       " '__pow__',\n",
       " '__radd__',\n",
       " '__rand__',\n",
       " '__rdivmod__',\n",
       " '__reduce__',\n",
       " '__reduce_ex__',\n",
       " '__repr__',\n",
       " '__rfloordiv__',\n",
       " '__rlshift__',\n",
       " '__rmod__',\n",
       " '__rmul__',\n",
       " '__ror__',\n",
       " '__round__',\n",
       " '__rpow__',\n",
       " '__rrshift__',\n",
       " '__rshift__',\n",
       " '__rsub__',\n",
       " '__rtruediv__',\n",
       " '__rxor__',\n",
       " '__setattr__',\n",
       " '__sizeof__',\n",
       " '__str__',\n",
       " '__sub__',\n",
       " '__subclasshook__',\n",
       " '__truediv__',\n",
       " '__trunc__',\n",
       " '__xor__',\n",
       " 'bit_length',\n",
       " 'conjugate',\n",
       " 'denominator',\n",
       " 'from_bytes',\n",
       " 'imag',\n",
       " 'numerator',\n",
       " 'real',\n",
       " 'to_bytes']"
      ]
     },
     "execution_count": 4,
     "metadata": {},
     "output_type": "execute_result"
    }
   ],
   "source": [
    "dir(x);"
   ]
  },
  {
   "cell_type": "code",
   "execution_count": 346,
   "metadata": {},
   "outputs": [
    {
     "data": {
      "text/plain": [
       "0"
      ]
     },
     "execution_count": 346,
     "metadata": {},
     "output_type": "execute_result"
    }
   ],
   "source": [
    "x.imag"
   ]
  },
  {
   "cell_type": "markdown",
   "metadata": {},
   "source": [
    "* when Python creates this integer object, it stores with it various auxiliary information, such as the imaginary part, and the type\n",
    "    * any name following a dot is called an attribute of the object to the left of the dot\n",
    "    * objects have attributes that contain auxillary information\n",
    "        * some attributes act like functions, these are called **methods**"
   ]
  },
  {
   "cell_type": "markdown",
   "metadata": {},
   "source": [
    "### Methods\n",
    "* functions that are bundled with objects\n",
    "* methods are attributes of objects that are callable (i.e., can be called as functions)\n",
    "* class methods differ from ordinary functions by the necessity to have an extra first name `self` (at the beginning of the parameter list)"
   ]
  },
  {
   "cell_type": "code",
   "execution_count": 347,
   "metadata": {},
   "outputs": [
    {
     "data": {
      "text/plain": [
       "\u001b[1;31mSignature:\u001b[0m \u001b[0mcallable\u001b[0m\u001b[1;33m(\u001b[0m\u001b[0mobj\u001b[0m\u001b[1;33m,\u001b[0m \u001b[1;33m/\u001b[0m\u001b[1;33m)\u001b[0m\u001b[1;33m\u001b[0m\u001b[1;33m\u001b[0m\u001b[0m\n",
       "\u001b[1;31mDocstring:\u001b[0m\n",
       "Return whether the object is callable (i.e., some kind of function).\n",
       "\n",
       "Note that classes are callable, as are instances of classes with a\n",
       "__call__() method.\n",
       "\u001b[1;31mType:\u001b[0m      builtin_function_or_method\n"
      ]
     },
     "metadata": {},
     "output_type": "display_data"
    }
   ],
   "source": [
    "?callable"
   ]
  },
  {
   "cell_type": "markdown",
   "metadata": {},
   "source": [
    "* e.g. Python list not only stroes data, but also knows how to append value to itself or sort itself\n",
    "    * `sort` and `append` are functions that are “part of” the list object — and hence called methods"
   ]
  },
  {
   "cell_type": "code",
   "execution_count": 6,
   "metadata": {},
   "outputs": [
    {
     "ename": "NameError",
     "evalue": "name 'sort' is not defined",
     "output_type": "error",
     "traceback": [
      "\u001b[1;31m---------------------------------------------------------------------------\u001b[0m",
      "\u001b[1;31mNameError\u001b[0m                                 Traceback (most recent call last)",
      "\u001b[1;32m<ipython-input-6-7b74e03b6948>\u001b[0m in \u001b[0;36m<module>\u001b[1;34m\u001b[0m\n\u001b[0;32m      1\u001b[0m \u001b[0mx\u001b[0m \u001b[1;33m=\u001b[0m \u001b[1;33m[\u001b[0m\u001b[1;34m'foo'\u001b[0m\u001b[1;33m,\u001b[0m \u001b[1;34m'bar'\u001b[0m\u001b[1;33m]\u001b[0m\u001b[1;33m\u001b[0m\u001b[1;33m\u001b[0m\u001b[0m\n\u001b[0;32m      2\u001b[0m \u001b[0mcallable\u001b[0m\u001b[1;33m(\u001b[0m\u001b[0mx\u001b[0m\u001b[1;33m.\u001b[0m\u001b[0msort\u001b[0m\u001b[1;33m)\u001b[0m\u001b[1;33m\u001b[0m\u001b[1;33m\u001b[0m\u001b[0m\n\u001b[1;32m----> 3\u001b[1;33m \u001b[0msort\u001b[0m\u001b[1;33m(\u001b[0m\u001b[0mx\u001b[0m\u001b[1;33m)\u001b[0m\u001b[1;33m\u001b[0m\u001b[1;33m\u001b[0m\u001b[0m\n\u001b[0m",
      "\u001b[1;31mNameError\u001b[0m: name 'sort' is not defined"
     ]
    }
   ],
   "source": [
    "x = ['foo', 'bar']\n",
    "callable(x.sort)"
   ]
  },
  {
   "cell_type": "code",
   "execution_count": 8,
   "metadata": {},
   "outputs": [
    {
     "ename": "TypeError",
     "evalue": "sort() takes no positional arguments",
     "output_type": "error",
     "traceback": [
      "\u001b[1;31m---------------------------------------------------------------------------\u001b[0m",
      "\u001b[1;31mTypeError\u001b[0m                                 Traceback (most recent call last)",
      "\u001b[1;32m<ipython-input-8-f47157ff4d40>\u001b[0m in \u001b[0;36m<module>\u001b[1;34m\u001b[0m\n\u001b[0;32m      1\u001b[0m \u001b[0mcallable\u001b[0m\u001b[1;33m(\u001b[0m\u001b[0mx\u001b[0m\u001b[1;33m.\u001b[0m\u001b[0mappend\u001b[0m\u001b[1;33m)\u001b[0m\u001b[1;33m\u001b[0m\u001b[1;33m\u001b[0m\u001b[0m\n\u001b[0;32m      2\u001b[0m \u001b[1;33m\u001b[0m\u001b[0m\n\u001b[1;32m----> 3\u001b[1;33m \u001b[0mx\u001b[0m\u001b[1;33m.\u001b[0m\u001b[0msort\u001b[0m\u001b[1;33m(\u001b[0m\u001b[0mx\u001b[0m\u001b[1;33m)\u001b[0m\u001b[1;33m\u001b[0m\u001b[1;33m\u001b[0m\u001b[0m\n\u001b[0m",
      "\u001b[1;31mTypeError\u001b[0m: sort() takes no positional arguments"
     ]
    }
   ],
   "source": [
    "callable(x.append)"
   ]
  },
  {
   "cell_type": "code",
   "execution_count": 350,
   "metadata": {},
   "outputs": [
    {
     "data": {
      "text/plain": [
       "False"
      ]
     },
     "execution_count": 350,
     "metadata": {},
     "output_type": "execute_result"
    }
   ],
   "source": [
    "callable(x.__doc__)"
   ]
  },
  {
   "cell_type": "code",
   "execution_count": 16,
   "metadata": {},
   "outputs": [
    {
     "data": {
      "text/plain": [
       "'A STRING'"
      ]
     },
     "execution_count": 16,
     "metadata": {},
     "output_type": "execute_result"
    }
   ],
   "source": [
    "# Methods typically act on the data contained in the object they belong to, or combine that data with other data\n",
    "x = ['a', 'b']\n",
    "x.append('c')\n",
    "s = 'A string'\n",
    "s.upper()"
   ]
  },
  {
   "cell_type": "code",
   "execution_count": 356,
   "metadata": {},
   "outputs": [
    {
     "data": {
      "text/plain": [
       "'a string'"
      ]
     },
     "execution_count": 356,
     "metadata": {},
     "output_type": "execute_result"
    }
   ],
   "source": [
    "s.lower()"
   ]
  },
  {
   "cell_type": "markdown",
   "metadata": {},
   "source": [
    "* it doesn’t look like there are any methods used here, but in fact the square bracket assignment notation is just a convenient interface to a method call\n",
    "    * Python calls the __setitem__ method\n",
    "* if you wanted to you could modify the __setitem__ method, so that square bracket assignment does something totally different\n",
    "    * be nice though"
   ]
  },
  {
   "cell_type": "code",
   "execution_count": 358,
   "metadata": {},
   "outputs": [
    {
     "data": {
      "text/plain": [
       "['aa', 'b']"
      ]
     },
     "execution_count": 358,
     "metadata": {},
     "output_type": "execute_result"
    }
   ],
   "source": [
    "x = ['a', 'b']\n",
    "x.__setitem__(0, 'aa')  # Equivalent to x[0] = 'aa'\n",
    "x"
   ]
  },
  {
   "cell_type": "code",
   "execution_count": 18,
   "metadata": {},
   "outputs": [
    {
     "data": {
      "text/plain": [
       "4"
      ]
     },
     "execution_count": 18,
     "metadata": {},
     "output_type": "execute_result"
    }
   ],
   "source": [
    "def f(x): \n",
    "    return x**2\n",
    "f"
   ]
  },
  {
   "cell_type": "code",
   "execution_count": 361,
   "metadata": {},
   "outputs": [
    {
     "name": "stdout",
     "output_type": "stream",
     "text": [
      "[<class 'function'>, 143894864, 'f', 9]\n"
     ]
    }
   ],
   "source": [
    "print([type(f),\n",
    "      id(f),\n",
    "      f.__name__,\n",
    "      f.__call__(3)])"
   ]
  },
  {
   "cell_type": "code",
   "execution_count": 363,
   "metadata": {},
   "outputs": [
    {
     "data": {
      "text/plain": [
       "{}"
      ]
     },
     "execution_count": 363,
     "metadata": {},
     "output_type": "execute_result"
    }
   ],
   "source": [
    "f.__dict__"
   ]
  },
  {
   "cell_type": "markdown",
   "metadata": {},
   "source": [
    "## Classes\n",
    "\n",
    "* **class**: a blueprint for building objects\n",
    "    * own types of objects $\\approx$ usage of class definitions\n",
    "* class describes:\n",
    "    * what kind of data the class stores\n",
    "    * what methods it has for acting on these data \n",
    "* takes a little while to get used to the syntax\n",
    "* the simplest class"
   ]
  },
  {
   "cell_type": "code",
   "execution_count": 14,
   "metadata": {},
   "outputs": [
    {
     "name": "stdout",
     "output_type": "stream",
     "text": [
      "<__main__.Simplicity object at 0x0000000005A4DC18>\n"
     ]
    }
   ],
   "source": [
    "class Simplicity:\n",
    "    pass  # No code means no bad code\n",
    "\n",
    "s = Simplicity()\n",
    "print(s)"
   ]
  },
  {
   "cell_type": "markdown",
   "metadata": {},
   "source": [
    "* an **object** or **instance** is a realization of the class, created from the blueprint\n",
    "    * each instance has its own unique data\n",
    "    * methods set out in the class definition act on this (and other) data\n",
    "\n",
    "* Attributes are accessed via “dotted attribute notation”\n",
    "    * `object_name.data`\n",
    "    * `object_name.method_name()"
   ]
  },
  {
   "cell_type": "code",
   "execution_count": 21,
   "metadata": {},
   "outputs": [],
   "source": [
    "# object\n",
    "x = [1, 5, 4]\n",
    "# method (attribute)\n",
    "x.sort()\n",
    "# another attribute \n",
    "x.__class__;"
   ]
  },
  {
   "cell_type": "markdown",
   "metadata": {},
   "source": [
    "* `x` is an object or instance, created from the definition for Python lists, but with its own particular data\n",
    "* `x.sort()` and `x.__class__` are two attributes of `x`\n",
    "* `dir(x)` can be used to view all the attributes of `x`"
   ]
  },
  {
   "cell_type": "code",
   "execution_count": 22,
   "metadata": {},
   "outputs": [],
   "source": [
    "dir(x);"
   ]
  },
  {
   "cell_type": "code",
   "execution_count": 23,
   "metadata": {},
   "outputs": [],
   "source": [
    "class Student: \n",
    "    def __init__(self):\n",
    "        self.status = None # placeholder\n",
    "    \n",
    "    def study(self):\n",
    "        self.status = 'Wise.'\n",
    "    \n",
    "    def procrastinate(self):\n",
    "        self.status = 'Dumb.'\n",
    "    \n",
    "    def show_status(self):\n",
    "        print(self.status)"
   ]
  },
  {
   "cell_type": "markdown",
   "metadata": {},
   "source": [
    "* convention: capitalize class names (to differentiate them from functions, which are lowercase by convention)\n",
    "\n",
    "* `__init__` is a *constructor method* \n",
    "    * provides a recipe for how to build an instance of a class\n",
    "    * whenewer we create an instance of the class, this method will be called automatically\n",
    "    * calling `__init__` sets up a \"namespace\" to hold the instance data\n",
    "* methods `study` and `procrastinate` act on the instance data `status`"
   ]
  },
  {
   "cell_type": "code",
   "execution_count": 25,
   "metadata": {},
   "outputs": [
    {
     "data": {
      "text/plain": [
       "<__main__.Student at 0x228ea900240>"
      ]
     },
     "execution_count": 25,
     "metadata": {},
     "output_type": "execute_result"
    }
   ],
   "source": [
    "s = Student()"
   ]
  },
  {
   "cell_type": "code",
   "execution_count": 27,
   "metadata": {},
   "outputs": [
    {
     "name": "stdout",
     "output_type": "stream",
     "text": [
      "None\n"
     ]
    }
   ],
   "source": [
    "s.show_status()"
   ]
  },
  {
   "cell_type": "code",
   "execution_count": 370,
   "metadata": {},
   "outputs": [],
   "source": [
    "s.procrastinate()"
   ]
  },
  {
   "cell_type": "code",
   "execution_count": 371,
   "metadata": {},
   "outputs": [
    {
     "name": "stdout",
     "output_type": "stream",
     "text": [
      "Dumb.\n"
     ]
    }
   ],
   "source": [
    "s.show_status()"
   ]
  },
  {
   "cell_type": "code",
   "execution_count": 372,
   "metadata": {},
   "outputs": [],
   "source": [
    "s.study()"
   ]
  },
  {
   "cell_type": "code",
   "execution_count": 29,
   "metadata": {},
   "outputs": [
    {
     "name": "stdout",
     "output_type": "stream",
     "text": [
      "None\n"
     ]
    },
    {
     "ename": "AttributeError",
     "evalue": "'function' object has no attribute 'status'",
     "output_type": "error",
     "traceback": [
      "\u001b[1;31m---------------------------------------------------------------------------\u001b[0m",
      "\u001b[1;31mAttributeError\u001b[0m                            Traceback (most recent call last)",
      "\u001b[1;32m<ipython-input-29-33788e3e9486>\u001b[0m in \u001b[0;36m<module>\u001b[1;34m\u001b[0m\n\u001b[0;32m      1\u001b[0m \u001b[0ms\u001b[0m\u001b[1;33m.\u001b[0m\u001b[0mshow_status\u001b[0m\u001b[1;33m(\u001b[0m\u001b[1;33m)\u001b[0m\u001b[1;33m\u001b[0m\u001b[1;33m\u001b[0m\u001b[0m\n\u001b[1;32m----> 2\u001b[1;33m \u001b[0mStudent\u001b[0m\u001b[1;33m.\u001b[0m\u001b[0mprocrastinate\u001b[0m\u001b[1;33m.\u001b[0m\u001b[0mstatus\u001b[0m\u001b[1;33m\u001b[0m\u001b[1;33m\u001b[0m\u001b[0m\n\u001b[0m",
      "\u001b[1;31mAttributeError\u001b[0m: 'function' object has no attribute 'status'"
     ]
    }
   ],
   "source": [
    "s.show_status()"
   ]
  },
  {
   "cell_type": "markdown",
   "metadata": {},
   "source": [
    "* `s` is just a one instance\n",
    "* we can create multiple students ofc"
   ]
  },
  {
   "cell_type": "code",
   "execution_count": 374,
   "metadata": {},
   "outputs": [
    {
     "name": "stdout",
     "output_type": "stream",
     "text": [
      "Wise.\n",
      "Dumb.\n"
     ]
    }
   ],
   "source": [
    "Vitek = Student()\n",
    "Vincent = Student()\n",
    "\n",
    "Vitek.study()\n",
    "Vincent.procrastinate()\n",
    "\n",
    "Vitek.show_status()\n",
    "Vincent.show_status()"
   ]
  },
  {
   "cell_type": "markdown",
   "metadata": {},
   "source": [
    "* an instance of a class can take on any name a we choose\n",
    "* link between the instance name and the class: `self`\n",
    "    * `self` as a variable whose sole job is to learn the name of a particular instance\n",
    "* any instance data should be prepended with `self`\n",
    "* any method defined within the class should have self as its first argument\n",
    "* any method referenced within the class should be called as self.method_name\n",
    "\n",
    "* each instance stores its data in a separate namespace dictionary"
   ]
  },
  {
   "cell_type": "code",
   "execution_count": 375,
   "metadata": {},
   "outputs": [
    {
     "data": {
      "text/plain": [
       "{'status': 'Wise.'}"
      ]
     },
     "execution_count": 375,
     "metadata": {},
     "output_type": "execute_result"
    }
   ],
   "source": [
    "Vitek.__dict__"
   ]
  },
  {
   "cell_type": "markdown",
   "metadata": {},
   "source": [
    "* following are equivalent"
   ]
  },
  {
   "cell_type": "code",
   "execution_count": 376,
   "metadata": {},
   "outputs": [
    {
     "name": "stdout",
     "output_type": "stream",
     "text": [
      "Dumb.\n"
     ]
    }
   ],
   "source": [
    "s.procrastinate()\n",
    "s.show_status()"
   ]
  },
  {
   "cell_type": "code",
   "execution_count": 377,
   "metadata": {},
   "outputs": [
    {
     "name": "stdout",
     "output_type": "stream",
     "text": [
      "Wise.\n"
     ]
    }
   ],
   "source": [
    "Student.study(s)\n",
    "Student.show_status(s)"
   ]
  },
  {
   "cell_type": "markdown",
   "metadata": {},
   "source": [
    "### Example of moving from procedural to OOP\n",
    "* usually we start with simple built-in data structures\n",
    "    * storing data in a few variables\n",
    "* with expanding program size we see that we are **passing the same set of related variables to different functions**\n",
    "    * time to think about grouping variables and functions into a class\n",
    "    \n",
    "**Example**\n",
    "* let's think about modelling polygons in 2D space\n",
    "* each polygon represented as a list of points\n",
    "* each point represented as a tuple (x,y), where x and y are coordinates"
   ]
  },
  {
   "cell_type": "code",
   "execution_count": 30,
   "metadata": {},
   "outputs": [],
   "source": [
    "square = [(1,1), (1,2), (2,2), (2,1)]"
   ]
  },
  {
   "cell_type": "markdown",
   "metadata": {},
   "source": [
    "* to calculate the perimeter, we need to calculate the [distance](https://en.wikipedia.org/wiki/Euclidean_distance) between two points"
   ]
  },
  {
   "cell_type": "code",
   "execution_count": 31,
   "metadata": {},
   "outputs": [],
   "source": [
    "import math\n",
    "\n",
    "def distance(p1, p2):\n",
    "    dist = math.sqrt(\n",
    "        (p1[0]-p2[0])**2 + (p1[1]-p2[1])**2\n",
    "        )\n",
    "    return dist\n",
    "\n",
    "def perimeter(polygon):\n",
    "    perimeter = 0\n",
    "    points = polygon + [polygon[0]]   \n",
    "    for i in range(len(polygon)):\n",
    "        perimeter += distance(points[i], points[i+1])\n",
    "    return perimeter"
   ]
  },
  {
   "cell_type": "code",
   "execution_count": 3,
   "metadata": {},
   "outputs": [
    {
     "data": {
      "text/plain": [
       "1.0"
      ]
     },
     "execution_count": 3,
     "metadata": {},
     "output_type": "execute_result"
    }
   ],
   "source": [
    "distance((1,1), (1,2))"
   ]
  },
  {
   "cell_type": "code",
   "execution_count": 4,
   "metadata": {},
   "outputs": [
    {
     "data": {
      "text/plain": [
       "4.0"
      ]
     },
     "execution_count": 4,
     "metadata": {},
     "output_type": "execute_result"
    }
   ],
   "source": [
    "perimeter(square)"
   ]
  },
  {
   "cell_type": "markdown",
   "metadata": {},
   "source": [
    "* thinking in an object-oriented way, we see that\n",
    "    * polygon class could encapsulate the list of points (data) and the perimeter function (behaviour)\n",
    "    * point class could encapsulate the coordinates (x,y) and the distance method"
   ]
  },
  {
   "cell_type": "code",
   "execution_count": 6,
   "metadata": {},
   "outputs": [],
   "source": [
    "class Point:\n",
    "    \n",
    "    def __init__(self, x, y):\n",
    "        self.x = x\n",
    "        self.y = y\n",
    "\n",
    "    def distance(self, p2):\n",
    "        return math.sqrt((self.x-p2.x)**2 + (self.y-p2.y)**2)\n",
    "\n",
    "class Polygon:\n",
    "    \n",
    "    def __init__(self):\n",
    "        self.vertices = [] \n",
    "        \n",
    "    def add_point(self, point):\n",
    "        self.vertices.append(point)\n",
    "\n",
    "    def perimeter(self):\n",
    "        perimeter = 0\n",
    "        # add \"first\" point to the list of points defining polygon\n",
    "        points = self.vertices + [self.vertices[0]]    \n",
    "        for i in range(len(self.vertices)):\n",
    "            perimeter += points[i].distance(points[i+1])\n",
    "        return perimeter"
   ]
  },
  {
   "cell_type": "code",
   "execution_count": 9,
   "metadata": {},
   "outputs": [
    {
     "data": {
      "text/plain": [
       "4.0"
      ]
     },
     "execution_count": 9,
     "metadata": {},
     "output_type": "execute_result"
    }
   ],
   "source": [
    "# example of usage\n",
    "square = Polygon()\n",
    "square.add_point(Point(1,1))\n",
    "square.add_point(Point(1,2))\n",
    "square.add_point(Point(2,2))\n",
    "square.add_point(Point(2,1))\n",
    "square.perimeter()"
   ]
  },
  {
   "cell_type": "code",
   "execution_count": 10,
   "metadata": {},
   "outputs": [
    {
     "data": {
      "text/plain": [
       "4.0"
      ]
     },
     "execution_count": 10,
     "metadata": {},
     "output_type": "execute_result"
    }
   ],
   "source": [
    "# compare with the previous case\n",
    "sq = [(1,1), (1,2), (2,2), (2,1)]\n",
    "perimeter(sq)"
   ]
  },
  {
   "cell_type": "markdown",
   "metadata": {},
   "source": [
    "* 2 lines of code vs. 6 ... what is this OOP nonsense?\n",
    "    * code length is really not a good indicator of code complexity\n",
    "    \n",
    "* OOP is easier to read compared to the procedural code above\n",
    "    * how do we know what the list of tuples is supposed to represent\n",
    "    * what should we pass into the perimeter function? list of tuples?\n",
    "    * possible, but plenty of documentation necessary (might be much longer than the code itself)\n",
    "    \n",
    "* OOP pretty self-documenting\n",
    "    * list of methods and parameters to see what the object does\n",
    "* if you are still not convinced, since our OOP case is too long, let's add some functionality to this class"
   ]
  },
  {
   "cell_type": "code",
   "execution_count": 11,
   "metadata": {},
   "outputs": [],
   "source": [
    "class Point:\n",
    "    \n",
    "    def __init__(self, x, y):\n",
    "        self.x = x\n",
    "        self.y = y\n",
    "\n",
    "    def distance(self, p2):\n",
    "        return math.sqrt((self.x-p2.x)**2 + (self.y-p2.y)**2)\n",
    "\n",
    "class Polygon:\n",
    "    \n",
    "    def __init__(self, points = []):\n",
    "        self.vertices = []\n",
    "        for point in points:\n",
    "            if isinstance(point, tuple):\n",
    "                point = Point(x = point[0], y = point[1])\n",
    "            self.add_point(point)\n",
    "        \n",
    "    def add_point(self, point):\n",
    "        self.vertices.append((point))\n",
    "\n",
    "    def perimeter(self):\n",
    "        perimeter = 0\n",
    "        \n",
    "        # add \"first\" point to the list of points defining polygon\n",
    "        points = self.vertices + [self.vertices[0]]    \n",
    "        for i in range(len(self.vertices)):\n",
    "            perimeter += points[i].distance(points[i+1])\n",
    "        return perimeter"
   ]
  },
  {
   "cell_type": "code",
   "execution_count": 12,
   "metadata": {},
   "outputs": [
    {
     "data": {
      "text/plain": [
       "4.0"
      ]
     },
     "execution_count": 12,
     "metadata": {},
     "output_type": "execute_result"
    }
   ],
   "source": [
    "square = Polygon(points = [(1,1), (1,2), (2,2), (2,1)])\n",
    "square.perimeter()"
   ]
  },
  {
   "cell_type": "markdown",
   "metadata": {},
   "source": [
    "Let's move to something little bit more interesting ... \n",
    "\n",
    "## OOP and OLS model\n",
    "\n",
    "* we'll build a class called LinearRegression\n",
    "    "
   ]
  },
  {
   "cell_type": "code",
   "execution_count": 33,
   "metadata": {},
   "outputs": [],
   "source": [
    "class LinearRegression:    \n",
    "    def __init__(self, fit_intercept = True):\n",
    "        # define instance data coef, intercept and _fit_intercept\n",
    "        self.coef_ = None # placeholder \n",
    "        self.intercept_ = None # placeholder  \n",
    "        self._fit_intercept = fit_intercept"
   ]
  },
  {
   "cell_type": "code",
   "execution_count": 388,
   "metadata": {},
   "outputs": [
    {
     "data": {
      "text/plain": [
       "\u001b[1;31mInit signature:\u001b[0m \u001b[0mLinearRegression\u001b[0m\u001b[1;33m(\u001b[0m\u001b[0mfit_intercept\u001b[0m\u001b[1;33m=\u001b[0m\u001b[1;32mTrue\u001b[0m\u001b[1;33m)\u001b[0m\u001b[1;33m\u001b[0m\u001b[1;33m\u001b[0m\u001b[0m\n",
       "\u001b[1;31mDocstring:\u001b[0m      <no docstring>\n",
       "\u001b[1;31mType:\u001b[0m           type\n",
       "\u001b[1;31mSubclasses:\u001b[0m     \n"
      ]
     },
     "metadata": {},
     "output_type": "display_data"
    }
   ],
   "source": [
    "?LinearRegression"
   ]
  },
  {
   "cell_type": "code",
   "execution_count": 34,
   "metadata": {},
   "outputs": [
    {
     "data": {
      "text/plain": [
       "['__class__',\n",
       " '__delattr__',\n",
       " '__dict__',\n",
       " '__dir__',\n",
       " '__doc__',\n",
       " '__eq__',\n",
       " '__format__',\n",
       " '__ge__',\n",
       " '__getattribute__',\n",
       " '__gt__',\n",
       " '__hash__',\n",
       " '__init__',\n",
       " '__init_subclass__',\n",
       " '__le__',\n",
       " '__lt__',\n",
       " '__module__',\n",
       " '__ne__',\n",
       " '__new__',\n",
       " '__reduce__',\n",
       " '__reduce_ex__',\n",
       " '__repr__',\n",
       " '__setattr__',\n",
       " '__sizeof__',\n",
       " '__str__',\n",
       " '__subclasshook__',\n",
       " '__weakref__']"
      ]
     },
     "execution_count": 34,
     "metadata": {},
     "output_type": "execute_result"
    }
   ],
   "source": [
    "dir(LinearRegression)"
   ]
  },
  {
   "cell_type": "code",
   "execution_count": 36,
   "metadata": {},
   "outputs": [],
   "source": [
    "# lr and alr are (or will be) unique models\n",
    "lr = LinearRegression\n",
    "alr = LinearRegression"
   ]
  },
  {
   "cell_type": "code",
   "execution_count": 37,
   "metadata": {},
   "outputs": [],
   "source": [
    "import numpy as np\n",
    "\n",
    "class LinearRegression:\n",
    "    \n",
    "    def __init__(self, fit_intercept = True):\n",
    "        self.coef_ = None # placeholder \n",
    "        self.intercept_ = None # placeholder  \n",
    "        self._fit_intercept = fit_intercept\n",
    "        self.predictions = None\n",
    "    \n",
    "    def fit(self, X, y):\n",
    "        \"\"\"\n",
    "        Obtain coefficients using closed form solution.\n",
    "\n",
    "        Arguments:\n",
    "        X: 1D or 2D numpy array (cols are independent variables)\n",
    "        y: 1D numpy array (dependent variable)\n",
    "        \"\"\"\n",
    "        \n",
    "        # check if X is 1D or 2D array\n",
    "        if len(X.shape) == 1:\n",
    "            X = X.reshape(-1,1)\n",
    "            \n",
    "        # add bias if fit_intercept is True\n",
    "        if self._fit_intercept:\n",
    "            X = np.c_[np.ones(X.shape[0]), X]\n",
    "        \n",
    "        # closed form solution\n",
    "        xTx = np.dot(X.T, X)\n",
    "        inverse_xTx = np.linalg.inv(xTx)\n",
    "        xTy = np.dot(X.T, y)\n",
    "        coef = np.dot(inverse_xTx, xTy)\n",
    "        \n",
    "        # set attributes\n",
    "        if self._fit_intercept:\n",
    "            self.intercept_ = coef[0]\n",
    "            self.coef_ = coef[1:]\n",
    "        else:\n",
    "            self.intercept_ = 0\n",
    "            self.coef_ = coef\n",
    "    \n",
    "    def predict(self, X):\n",
    "            \n",
    "        \"\"\"\n",
    "        Model prediction given the data matrix.\n",
    "\n",
    "        Arguments:\n",
    "        X: 1D or 2D numpy array \n",
    "        \"\"\"\n",
    "\n",
    "        # check if X is 1D or 2D array\n",
    "        if len(X.shape) == 1:\n",
    "            X = X.reshape(-1,1) \n",
    "        self.predictions =  self.intercept_ + np.dot(X, self.coef_)\n",
    "        return self.predictions"
   ]
  },
  {
   "cell_type": "code",
   "execution_count": 38,
   "metadata": {},
   "outputs": [],
   "source": [
    "%matplotlib inline\n",
    "import matplotlib.pyplot as plt\n",
    "\n",
    "n = 100\n",
    "X = np.linspace(1,10,n)\n",
    "y = 0.35 * X + np.random.normal(0,1,n)"
   ]
  },
  {
   "cell_type": "code",
   "execution_count": 39,
   "metadata": {},
   "outputs": [
    {
     "data": {
      "image/png": "[encoded data removed]",
      "text/plain": [
       "<Figure size 432x288 with 1 Axes>"
      ]
     },
     "metadata": {
      "needs_background": "light"
     },
     "output_type": "display_data"
    }
   ],
   "source": [
    "plt.scatter(X,y)\n",
    "plt.grid()\n",
    "plt.xlabel('X')\n",
    "plt.ylabel('y');"
   ]
  },
  {
   "cell_type": "code",
   "execution_count": 40,
   "metadata": {},
   "outputs": [],
   "source": [
    "# see how it works\n",
    "lr = LinearRegression()\n",
    "lr.fit(X, y)"
   ]
  },
  {
   "cell_type": "code",
   "execution_count": 17,
   "metadata": {},
   "outputs": [
    {
     "data": {
      "text/plain": [
       "{'coef_': array([0.41836425]),\n",
       " 'intercept_': -0.4100342643103261,\n",
       " '_fit_intercept': True,\n",
       " 'predictions': None}"
      ]
     },
     "execution_count": 17,
     "metadata": {},
     "output_type": "execute_result"
    }
   ],
   "source": [
    "lr.__dict__"
   ]
  },
  {
   "cell_type": "code",
   "execution_count": 41,
   "metadata": {},
   "outputs": [
    {
     "data": {
      "image/png": "[encoded data removed]",
      "text/plain": [
       "<Figure size 432x288 with 1 Axes>"
      ]
     },
     "metadata": {
      "needs_background": "light"
     },
     "output_type": "display_data"
    }
   ],
   "source": [
    "plt.scatter(X,y)\n",
    "plt.plot(X,lr.predict(X))\n",
    "plt.grid()\n",
    "plt.xlabel('X')\n",
    "plt.ylabel('y');"
   ]
  },
  {
   "cell_type": "code",
   "execution_count": 19,
   "metadata": {},
   "outputs": [
    {
     "data": {
      "text/plain": [
       "{'coef_': array([0.41836425]),\n",
       " 'intercept_': -0.4100342643103261,\n",
       " '_fit_intercept': True,\n",
       " 'predictions': array([0.00832999, 0.0463631 , 0.08439622, 0.12242933, 0.16046244,\n",
       "        0.19849556, 0.23652867, 0.27456178, 0.3125949 , 0.35062801,\n",
       "        0.38866113, 0.42669424, 0.46472735, 0.50276047, 0.54079358,\n",
       "        0.57882669, 0.61685981, 0.65489292, 0.69292604, 0.73095915,\n",
       "        0.76899226, 0.80702538, 0.84505849, 0.88309161, 0.92112472,\n",
       "        0.95915783, 0.99719095, 1.03522406, 1.07325717, 1.11129029,\n",
       "        1.1493234 , 1.18735652, 1.22538963, 1.26342274, 1.30145586,\n",
       "        1.33948897, 1.37752208, 1.4155552 , 1.45358831, 1.49162143,\n",
       "        1.52965454, 1.56768765, 1.60572077, 1.64375388, 1.681787  ,\n",
       "        1.71982011, 1.75785322, 1.79588634, 1.83391945, 1.87195256,\n",
       "        1.90998568, 1.94801879, 1.98605191, 2.02408502, 2.06211813,\n",
       "        2.10015125, 2.13818436, 2.17621748, 2.21425059, 2.2522837 ,\n",
       "        2.29031682, 2.32834993, 2.36638304, 2.40441616, 2.44244927,\n",
       "        2.48048239, 2.5185155 , 2.55654861, 2.59458173, 2.63261484,\n",
       "        2.67064795, 2.70868107, 2.74671418, 2.7847473 , 2.82278041,\n",
       "        2.86081352, 2.89884664, 2.93687975, 2.97491287, 3.01294598,\n",
       "        3.05097909, 3.08901221, 3.12704532, 3.16507843, 3.20311155,\n",
       "        3.24114466, 3.27917778, 3.31721089, 3.355244  , 3.39327712,\n",
       "        3.43131023, 3.46934334, 3.50737646, 3.54540957, 3.58344269,\n",
       "        3.6214758 , 3.65950891, 3.69754203, 3.73557514, 3.77360826])}"
      ]
     },
     "execution_count": 19,
     "metadata": {},
     "output_type": "execute_result"
    }
   ],
   "source": [
    "lr.__dict__"
   ]
  },
  {
   "cell_type": "markdown",
   "metadata": {},
   "source": [
    "### Inheritance\n",
    "* defining a new class (*derived* or *child* class) from another class (*base* or *parent* class)\n",
    "    * reuse what you can instead of repeating yourself\n",
    "* derived class inherits features of the base class\n",
    "    * we can ofc add to it\n",
    "* let's define another class from which we will inherit"
   ]
  },
  {
   "cell_type": "code",
   "execution_count": 21,
   "metadata": {},
   "outputs": [],
   "source": [
    "class Metrics:\n",
    "    \n",
    "    def sse(self):\n",
    "        '''sum of squared errors'''\n",
    "        squared_errors = (self.target - self.predict(self.data)) ** 2\n",
    "        self.sq_error_ = np.sum(squared_errors)\n",
    "        return self.sq_error_\n",
    "        \n",
    "    def sst(self):\n",
    "        '''total sum of squared errors'''\n",
    "        avg_y = np.mean(self.target)\n",
    "        squared_errors = (self.target - avg_y) ** 2\n",
    "        self.sst_ = np.sum(squared_errors)\n",
    "        return self.sst_\n",
    "    \n",
    "    def r_squared(self):\n",
    "        '''r^2: coefficient of determination'''\n",
    "        self.r_sq_ = 1 - self.sse()/self.sst()\n",
    "        return self.r_sq_\n",
    "    \n",
    "    def adj_r_squared(self):\n",
    "        '''adjusted r^2'''\n",
    "        self.adj_r_sq_ = 1 - (self.sse()/self._dfe) / (self.sst()/self._dft)\n",
    "        return self.adj_r_sq_\n",
    "    \n",
    "    def mse(self):\n",
    "        '''mean squared error'''\n",
    "        self.mse_ = np.mean( (self.predict(self.data) - self.target) ** 2 )\n",
    "        return self.mse_"
   ]
  },
  {
   "cell_type": "markdown",
   "metadata": {},
   "source": [
    "* let's actually inherit something"
   ]
  },
  {
   "cell_type": "code",
   "execution_count": 22,
   "metadata": {},
   "outputs": [],
   "source": [
    "class LinearRegressionWithInheritance(Metrics):\n",
    "    \n",
    "    def __init__(self, fit_intercept=True):\n",
    "        self.coef_ = None\n",
    "        self.intercept_ = None\n",
    "        self._fit_intercept = fit_intercept\n",
    "        self.predictions = None\n",
    "        \n",
    "    def fit(self, X, y):\n",
    "        \"\"\"\n",
    "        Fit model coefficients.\n",
    "\n",
    "        Arguments:\n",
    "        X: 1D or 2D numpy array \n",
    "        y: 1D numpy array\n",
    "        \"\"\"\n",
    "        \n",
    "        self.data = X\n",
    "        self.target = y \n",
    "        \n",
    "        # check if X is 1D or 2D array\n",
    "        if len(X.shape) == 1:\n",
    "            X = X.reshape(-1,1)\n",
    "        \n",
    "        # add bias if fit_intercept is True\n",
    "        if self._fit_intercept:\n",
    "            X = np.c_[np.ones(X.shape[0]), X]\n",
    "        \n",
    "        # closed form solution\n",
    "        xTx = np.dot(X.T, X)\n",
    "        inverse_xTx = np.linalg.inv(xTx)\n",
    "        xTy = np.dot(X.T, y)\n",
    "        coef = np.dot(inverse_xTx, xTy)\n",
    "        \n",
    "        # set attributes\n",
    "        if self._fit_intercept:\n",
    "            self.intercept_ = coef[0]\n",
    "            self.coef_ = coef[1:]\n",
    "        else:\n",
    "            self.intercept_ = 0\n",
    "            self.coef_ = coef\n",
    "            \n",
    "    def predict(self, X):\n",
    "            \n",
    "        \"\"\"\n",
    "        Output model prediction.\n",
    "\n",
    "        Arguments:\n",
    "        X: 1D or 2D numpy array \n",
    "        \"\"\"\n",
    "\n",
    "        # check if X is 1D or 2D array\n",
    "        if len(X.shape) == 1:\n",
    "            X = X.reshape(-1,1) \n",
    "        self.predictions =  self.intercept_ + np.dot(X, self.coef_)\n",
    "        return self.predictions"
   ]
  },
  {
   "cell_type": "code",
   "execution_count": 23,
   "metadata": {},
   "outputs": [],
   "source": [
    "# see how it works\n",
    "lri = LinearRegressionWithInheritance()\n",
    "lri.fit(X, y)"
   ]
  },
  {
   "cell_type": "code",
   "execution_count": 24,
   "metadata": {},
   "outputs": [
    {
     "data": {
      "text/plain": [
       "{'coef_': array([0.41836425]),\n",
       " 'intercept_': -0.4100342643103261,\n",
       " '_fit_intercept': True,\n",
       " 'predictions': None,\n",
       " 'data': array([ 1.        ,  1.09090909,  1.18181818,  1.27272727,  1.36363636,\n",
       "         1.45454545,  1.54545455,  1.63636364,  1.72727273,  1.81818182,\n",
       "         1.90909091,  2.        ,  2.09090909,  2.18181818,  2.27272727,\n",
       "         2.36363636,  2.45454545,  2.54545455,  2.63636364,  2.72727273,\n",
       "         2.81818182,  2.90909091,  3.        ,  3.09090909,  3.18181818,\n",
       "         3.27272727,  3.36363636,  3.45454545,  3.54545455,  3.63636364,\n",
       "         3.72727273,  3.81818182,  3.90909091,  4.        ,  4.09090909,\n",
       "         4.18181818,  4.27272727,  4.36363636,  4.45454545,  4.54545455,\n",
       "         4.63636364,  4.72727273,  4.81818182,  4.90909091,  5.        ,\n",
       "         5.09090909,  5.18181818,  5.27272727,  5.36363636,  5.45454545,\n",
       "         5.54545455,  5.63636364,  5.72727273,  5.81818182,  5.90909091,\n",
       "         6.        ,  6.09090909,  6.18181818,  6.27272727,  6.36363636,\n",
       "         6.45454545,  6.54545455,  6.63636364,  6.72727273,  6.81818182,\n",
       "         6.90909091,  7.        ,  7.09090909,  7.18181818,  7.27272727,\n",
       "         7.36363636,  7.45454545,  7.54545455,  7.63636364,  7.72727273,\n",
       "         7.81818182,  7.90909091,  8.        ,  8.09090909,  8.18181818,\n",
       "         8.27272727,  8.36363636,  8.45454545,  8.54545455,  8.63636364,\n",
       "         8.72727273,  8.81818182,  8.90909091,  9.        ,  9.09090909,\n",
       "         9.18181818,  9.27272727,  9.36363636,  9.45454545,  9.54545455,\n",
       "         9.63636364,  9.72727273,  9.81818182,  9.90909091, 10.        ]),\n",
       " 'target': array([-0.92844247,  0.1599072 , -0.23139229,  0.01963058,  0.00920996,\n",
       "         0.08455175, -1.15851796,  0.08780739,  0.783615  , -0.60752534,\n",
       "         1.0104421 ,  2.3220037 ,  1.92476557,  1.18901921, -0.69538233,\n",
       "         0.61547451,  0.13617251,  0.1843322 ,  0.58581412,  0.23903608,\n",
       "         0.42141678,  1.97554432,  1.3862579 ,  0.5912952 ,  1.07017004,\n",
       "         0.42304749,  0.03468918,  2.644375  ,  1.49243143,  1.78322206,\n",
       "        -0.73030412,  1.82915917,  1.53415038,  2.2510162 ,  2.19233889,\n",
       "         0.4716891 ,  3.05273626,  1.22663027,  1.88668529,  0.28286131,\n",
       "         2.17258201,  0.34690087,  1.85944209,  2.49371885,  2.01033152,\n",
       "         3.85401053,  1.17265581,  0.49623853, -0.31409384,  2.39427813,\n",
       "         0.7150889 ,  3.42900737,  1.08752544,  1.92509949,  2.32360246,\n",
       "         2.13299313,  1.69409184,  3.22838985,  1.95454931,  1.75521698,\n",
       "         2.30496813,  1.07913701,  2.43600534,  1.202773  ,  2.71973642,\n",
       "         1.34002096,  3.75562827,  2.18762493,  2.54231015,  2.08466924,\n",
       "         2.73097264,  3.28296833,  3.0723159 ,  2.83505412,  4.68851724,\n",
       "         2.66470946,  3.14048114,  1.92411833,  4.05271293,  3.56308896,\n",
       "         3.21396749,  4.03189547,  2.24695727,  2.50669814,  2.7112108 ,\n",
       "         1.90223188,  3.36987671,  4.14228538,  4.21301809,  4.99535963,\n",
       "         2.35293234,  4.39298286,  4.01330143,  1.92117276,  3.45526422,\n",
       "         2.67762339,  4.86304283,  4.53627687,  2.14974611,  3.51169307])}"
      ]
     },
     "execution_count": 24,
     "metadata": {},
     "output_type": "execute_result"
    }
   ],
   "source": [
    "lri.__dict__"
   ]
  },
  {
   "cell_type": "code",
   "execution_count": 25,
   "metadata": {},
   "outputs": [
    {
     "data": {
      "text/plain": [
       "0.5942104716549982"
      ]
     },
     "execution_count": 25,
     "metadata": {},
     "output_type": "execute_result"
    }
   ],
   "source": [
    "lri.r_squared()"
   ]
  },
  {
   "cell_type": "markdown",
   "metadata": {},
   "source": [
    "* class can be derived from more than one base class in Python, so called multiple inheritance\n",
    "    * features of all the base classes are inherited into the derived class"
   ]
  },
  {
   "cell_type": "code",
   "execution_count": 26,
   "metadata": {},
   "outputs": [],
   "source": [
    "class Base1:\n",
    "    pass\n",
    "\n",
    "class Base2:\n",
    "    pass\n",
    "\n",
    "class MultiDerived(Base1, Base2):\n",
    "    pass"
   ]
  },
  {
   "cell_type": "markdown",
   "metadata": {},
   "source": [
    "* class can also inherit from an already derived class, so called *multilevel inheritance*"
   ]
  },
  {
   "cell_type": "code",
   "execution_count": 27,
   "metadata": {},
   "outputs": [],
   "source": [
    "class Base:\n",
    "    pass\n",
    "\n",
    "class Derived1(Base):\n",
    "    pass\n",
    "\n",
    "class Derived2(Derived1):\n",
    "    pass"
   ]
  },
  {
   "cell_type": "markdown",
   "metadata": {},
   "source": [
    "* every class in Python is derived from the class `object`"
   ]
  },
  {
   "cell_type": "code",
   "execution_count": 28,
   "metadata": {},
   "outputs": [
    {
     "data": {
      "text/plain": [
       "\u001b[1;31mInit signature:\u001b[0m \u001b[0mobject\u001b[0m\u001b[1;33m(\u001b[0m\u001b[1;33m)\u001b[0m\u001b[1;33m\u001b[0m\u001b[1;33m\u001b[0m\u001b[0m\n",
       "\u001b[1;31mDocstring:\u001b[0m      The most base type\n",
       "\u001b[1;31mType:\u001b[0m           type\n",
       "\u001b[1;31mSubclasses:\u001b[0m     type, weakref, weakcallableproxy, weakproxy, int, bytearray, bytes, list, NoneType, NotImplementedType, ...\n"
      ]
     },
     "metadata": {},
     "output_type": "display_data"
    }
   ],
   "source": [
    "?object"
   ]
  },
  {
   "cell_type": "markdown",
   "metadata": {},
   "source": [
    "* in the multiple inheritance scenario, any specified attribute is searched first in the current class\n",
    "    * if not found, the search continues into parent classes based on the depth, i.e. [MultiDerived, Base1, Base2, object]\n",
    "* if we define the same method in base as well as derived class (but differently), i.e. **overriding methods**\n",
    "    * instances of the new class will have the new behavior and the instances of the existing class will have the old behavior\n",
    "           "
   ]
  },
  {
   "cell_type": "markdown",
   "metadata": {},
   "source": [
    "### Composition\n",
    "* imagine a class that needs to accumulate an arbitrary number of objects\n",
    "    * a list can do that, so we should subclass (inherit) list, right?\n",
    "        * list also support a number of other operations (iterate over the objects, sort, reverse, etc.)\n",
    "* do we need all those features?\n",
    "    * if no, our class should only contain a list (rather than fully inheriting from it)\n",
    "* **composition** is used when we want to use some aspect of another class without promising all of the features of that other class"
   ]
  },
  {
   "cell_type": "markdown",
   "metadata": {},
   "source": [
    "### Example of OOP in the real world\n",
    "* [statsmodels](https://www.statsmodels.org/dev/index.html) is a Python module for the estimation of statistical models, conducting statistical tests, etc.\n",
    "* let's look at its codebase"
   ]
  },
  {
   "cell_type": "markdown",
   "metadata": {},
   "source": [
    "## Docstrings in Python\n",
    "* **Python Docstring** is the documentation string (written as a first statement), part of the:\n",
    "    * class, module, function, method, etc.\n",
    "* a descriptive text written by a programmer mainly for themselves to know what the line of code or expression does\n",
    "* docstrings are accesible as the `doc` attribute in the Python objects (as well as the built-in `help()`\n",
    "* \"rules\" are only conventions really, based on the [PEP standard](https://www.python.org/dev/peps/pep-0008/), specifically [PEP 257](https://www.python.org/dev/peps/pep-0257/) dealing with *docstring* conventions\n",
    "    * PEP means Python Enhancement Proposals \n",
    "* *one-line* vs *multi-line* Docstring\n"
   ]
  },
  {
   "cell_type": "markdown",
   "metadata": {},
   "source": [
    "### One-liner"
   ]
  },
  {
   "cell_type": "code",
   "execution_count": 1,
   "metadata": {},
   "outputs": [],
   "source": [
    "def cube(a):\n",
    "    '''Returns the third power of number a.'''\n",
    "    return a**3"
   ]
  },
  {
   "cell_type": "code",
   "execution_count": 2,
   "metadata": {},
   "outputs": [
    {
     "data": {
      "text/plain": [
       "'Returns the third power of number a.'"
      ]
     },
     "execution_count": 2,
     "metadata": {},
     "output_type": "execute_result"
    }
   ],
   "source": [
    "cube.__doc__"
   ]
  },
  {
   "cell_type": "code",
   "execution_count": 3,
   "metadata": {},
   "outputs": [
    {
     "name": "stdout",
     "output_type": "stream",
     "text": [
      "Help on function cube in module __main__:\n",
      "\n",
      "cube(a)\n",
      "    Returns the third power of number a.\n",
      "\n"
     ]
    }
   ],
   "source": [
    "help(cube)"
   ]
  },
  {
   "cell_type": "markdown",
   "metadata": {},
   "source": [
    "* Some rules\n",
    "    * The line begins with a capital letter and end with a period.\n",
    "    * The closing quotes are on the same line as the opening quotes.\n",
    "    * There's no blank line either before or after the Docstring."
   ]
  },
  {
   "cell_type": "markdown",
   "metadata": {},
   "source": [
    "### Multi-liner"
   ]
  },
  {
   "cell_type": "code",
   "execution_count": 408,
   "metadata": {},
   "outputs": [],
   "source": [
    "def some_function(arg):\n",
    "    \"\"\"Summary or Description of the Function\n",
    "\n",
    "    Parameters:\n",
    "    arg (int): Description of arg\n",
    "\n",
    "    Returns:\n",
    "    int:Returning value\n",
    "\n",
    "   \"\"\"\n",
    "\n",
    "    return argument1"
   ]
  },
  {
   "cell_type": "code",
   "execution_count": 4,
   "metadata": {},
   "outputs": [],
   "source": [
    "print(some_function.__doc__)"
   ]
  },
  {
   "cell_type": "markdown",
   "metadata": {},
   "source": [
    "## Common Docstring Formats\n",
    "* many Docstrings format available\n",
    "    * good idea to use those easily recognized by the other programmers as well as Docstring parsers\n",
    "* use formatting type supported by [Sphinx](http://www.sphinx-doc.org/en/master/), Python documentation generator\n",
    "* the most common formats:\n",
    "\n",
    "| Type                    | Description                                                              |\n",
    "|-------------------------|--------------------------------------------------------------------------|\n",
    "| Numpy/Scipy Docstring   | Combination of reStructured and GoogleDocstrings and supported by Sphinx |\n",
    "| Pydoc                   | Standard documentation module for Python and supported by Sphinx         |\n",
    "| Google Docstring        | Easy and intuitive to use (used for the shorter docs)                    |"
   ]
  },
  {
   "cell_type": "code",
   "execution_count": null,
   "metadata": {},
   "outputs": [],
   "source": []
  }
 ],
 "metadata": {
  "kernelspec": {
   "display_name": "Python 3",
   "language": "python",
   "name": "python3"
  },
  "language_info": {
   "codemirror_mode": {
    "name": "ipython",
    "version": 3
   },
   "file_extension": ".py",
   "mimetype": "text/x-python",
   "name": "python",
   "nbconvert_exporter": "python",
   "pygments_lexer": "ipython3",
   "version": "3.7.1"
  }
 },
 "nbformat": 4,
 "nbformat_minor": 2
}
